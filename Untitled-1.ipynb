{
 "cells": [
  {
   "cell_type": "code",
   "execution_count": 5,
   "metadata": {},
   "outputs": [],
   "source": [
    "file = open(\"example.txt\",\"w\")\n",
    "file.write(\"Hello this is new file\")\n",
    "file.close()\n",
    "# print(file.read())"
   ]
  },
  {
   "cell_type": "code",
   "execution_count": 12,
   "metadata": {},
   "outputs": [
    {
     "name": "stdout",
     "output_type": "stream",
     "text": [
      "Hello this is new file\n"
     ]
    }
   ],
   "source": [
    "file = open(\"example.txt\",\"r\")\n",
    "# file.write(\"Hello this is new file\")\n",
    "\n",
    "print(file.read())\n",
    "file.close()\n"
   ]
  },
  {
   "cell_type": "code",
   "execution_count": 13,
   "metadata": {},
   "outputs": [],
   "source": [
    "with open(\"example.txt\",\"w\") as file:\n",
    "    file.write(\"This will overwrite the old content\\n\")\n",
    "    file.write(\"This will overwrite the old content\")\n",
    "    "
   ]
  },
  {
   "cell_type": "code",
   "execution_count": 14,
   "metadata": {},
   "outputs": [],
   "source": [
    "with open(\"example.txt\",\"a\") as file:\n",
    "    file.write(\"this is new content\\n\")\n",
    "    file.write(\"sec new content\")\n",
    "    "
   ]
  },
  {
   "cell_type": "code",
   "execution_count": 20,
   "metadata": {},
   "outputs": [
    {
     "name": "stdout",
     "output_type": "stream",
     "text": [
      "This will overwrite the old content\n",
      "\n",
      "This will overwrite the old contentthis is new content\n",
      "\n",
      "sec new content\n"
     ]
    }
   ],
   "source": [
    "#reading entire file\n",
    "# with open(\"example.txt\",\"r\")as file:\n",
    "#     print(file.read())\n",
    "# reading line by line using for loop\n",
    "# with open(\"example.txt\",\"r\")as file:\n",
    "#     for line in file:\n",
    "#         print(line)\n",
    "\n",
    "#using readline to read one line at a time\n",
    "with open(\"example.txt\",\"r\")as file:\n",
    "    line=file.readline()\n",
    "    while line:\n",
    "        print(line)\n",
    "        line=file.readline()"
   ]
  },
  {
   "cell_type": "code",
   "execution_count": 23,
   "metadata": {},
   "outputs": [],
   "source": [
    "with open(\"C:/Users/dell/Downloads/kidredeye.jpg\",\"rb\") as copy_file:\n",
    "    binary_data=copy_file.read()"
   ]
  },
  {
   "cell_type": "code",
   "execution_count": 25,
   "metadata": {},
   "outputs": [
    {
     "name": "stdout",
     "output_type": "stream",
     "text": [
      "b'\\x89PNG\\r\\n\\x1a\\n\\x00\\x00\\x00\\rIHDR\\x00\\x00\\x02\\x08\\x00\\x00\\x02W\\x08\\x02\\x00\\x00\\x00yF;\\x16\\x00\\x00\\x00\\x01sRGB\\x00\\xae\\xce\\x1c\\xe9\\x00\\x00\\x00\\x04gAMA\\x00\\x00\\xb1\\x8f\\x0b\\xfca\\x05\\x00\\x00\\x00\\tpHYs\\x00\\x00\\x0e\\xc3\\x00\\x00\\x0e\\xc3\\x01\\xc7o\\xa8d\\x00\\x00\\xff\\xa5IDATx^T\\xfdU\\x93$X\\xb6'\n"
     ]
    }
   ],
   "source": [
    "print(binary_data[:100])"
   ]
  },
  {
   "cell_type": "code",
   "execution_count": 26,
   "metadata": {},
   "outputs": [],
   "source": [
    "with open(\"C:/Users/dell/Downloads/kidredeye.jpg\",\"wb\") as copy_file:\n",
    "    copy_file.write(binary_data[:100])"
   ]
  },
  {
   "cell_type": "code",
   "execution_count": 30,
   "metadata": {},
   "outputs": [
    {
     "name": "stdout",
     "output_type": "stream",
     "text": [
      "15\n",
      "15\n",
      "rite the old content\n",
      "This will overwrite the old contentthis is new content\n",
      "sec new content\n"
     ]
    }
   ],
   "source": [
    "#seek tell \n",
    "with open(\"example.txt\",\"r\")as file:\n",
    "    file.seek(15)\n",
    "    print(file.tell())\n",
    "    print(file.read())"
   ]
  },
  {
   "cell_type": "code",
   "execution_count": 32,
   "metadata": {},
   "outputs": [],
   "source": [
    "import json\n",
    "data={\"name\":\"Mahmoud\",\"Age\":26,\"location\":\"Cairo\"}\n",
    "with open(\"data.json\",\"w\") as json_file:\n",
    "    json.dump(data,json_file)"
   ]
  },
  {
   "cell_type": "code",
   "execution_count": 35,
   "metadata": {},
   "outputs": [
    {
     "name": "stdout",
     "output_type": "stream",
     "text": [
      "{'name': 'Mahmoud', 'Age': 26, 'location': 'Cairo'}\n"
     ]
    }
   ],
   "source": [
    "with open(\"data.json\",\"r\") as json_file:\n",
    "    loaded_data=json.load(json_file)\n",
    "    print(loaded_data)"
   ]
  },
  {
   "cell_type": "code",
   "execution_count": 37,
   "metadata": {},
   "outputs": [],
   "source": [
    "import csv \n",
    "\n",
    "with open(\"data.csv\",\"w\") as new_csv:\n",
    "    writer=csv.writer(new_csv)\n",
    "    writer.writerow([\"name\",\"age\",\"location\"])\n",
    "    writer.writerow([\"mahmoud\",\"26\",\"cairo\"])"
   ]
  },
  {
   "cell_type": "code",
   "execution_count": 38,
   "metadata": {},
   "outputs": [
    {
     "name": "stdout",
     "output_type": "stream",
     "text": [
      "['name', 'age', 'location']\n",
      "[]\n",
      "['mahmoud', '26', 'cairo']\n",
      "[]\n"
     ]
    }
   ],
   "source": [
    "with open(\"data.csv\",\"r\") as csv_file:\n",
    "    reader=csv.reader(csv_file)\n",
    "    for row in reader:\n",
    "        print(row)"
   ]
  },
  {
   "cell_type": "code",
   "execution_count": 41,
   "metadata": {},
   "outputs": [
    {
     "name": "stdout",
     "output_type": "stream",
     "text": [
      " file exist\n"
     ]
    }
   ],
   "source": [
    "import os \n",
    "\n",
    "if os.path.exists(\"example.txt\"):\n",
    "    print(\" file exist\")\n",
    "else:\n",
    "    print(\"file doesnt exist\")"
   ]
  },
  {
   "cell_type": "code",
   "execution_count": 45,
   "metadata": {},
   "outputs": [
    {
     "name": "stdout",
     "output_type": "stream",
     "text": [
      "[Errno 2] No such file or directory: 'mohsen.txt'\n"
     ]
    }
   ],
   "source": [
    "\n",
    "try:\n",
    "    with open(\"mohsen.txt\",\"r\") as file:\n",
    "        print(file.read())\n",
    "# except FileNotFoundError:\n",
    "#     print(\"file not found\")\n",
    "except Exception as e:\n",
    "    print(e)\n",
    "    "
   ]
  }
 ],
 "metadata": {
  "kernelspec": {
   "display_name": "base",
   "language": "python",
   "name": "python3"
  },
  "language_info": {
   "codemirror_mode": {
    "name": "ipython",
    "version": 3
   },
   "file_extension": ".py",
   "mimetype": "text/x-python",
   "name": "python",
   "nbconvert_exporter": "python",
   "pygments_lexer": "ipython3",
   "version": "3.11.5"
  }
 },
 "nbformat": 4,
 "nbformat_minor": 2
}
